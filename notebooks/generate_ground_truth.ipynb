{
 "cells": [
  {
   "cell_type": "code",
   "execution_count": null,
   "metadata": {},
   "outputs": [],
   "source": [
    "from elasticsearch import Elasticsearch\n",
    "from sentence_transformers import SentenceTransformer\n",
    "from openai import OpenAI\n",
    "from dotenv import load_dotenv\n",
    "import os\n",
    "from ast import literal_eval\n",
    "import json\n",
    "from tqdm import tqdm\n",
    "import pickle\n",
    "\n",
    "from yt_rag.agent import llm\n",
    "\n",
    "\n",
    "load_dotenv()\n",
    "\n",
    "OLLAMA_URL = os.getenv(\"LOCAL_OLLAMA_URL\")\n",
    "\n",
    "ollama_client = OpenAI(base_url=OLLAMA_URL, api_key=\"ollama\")"
   ]
  },
  {
   "cell_type": "code",
   "execution_count": null,
   "metadata": {},
   "outputs": [],
   "source": [
    "with open('../data/yt_videos_details.pkl', 'rb') as f:\n",
    "    videos = pickle.load(f)\n"
   ]
  },
  {
   "cell_type": "code",
   "execution_count": null,
   "metadata": {},
   "outputs": [],
   "source": [
    "prompt_llm = \"\"\"\n",
    "You are a user of a cooking and recipe assistant app.\n",
    "Generate 5 general questions related to the cooking techniques, ingredients, or recipes discussed in the provided video.\n",
    "The questions should be clear, concise, and relevant to the video's content.\n",
    "Avoid being overly specific about particular ingredients or using too many details from the title and description.\n",
    "Do not mention or reference the video title, description, or any URLs.\n",
    "Focus on broader cooking themes that would be of interest to a home cook.\n",
    "\n",
    "The video information:\n",
    "\n",
    "title: {title}\n",
    "description: {description}\n",
    "\n",
    "Output the result as a JSON object without using code blocks:\n",
    "\n",
    "{{\"questions\": [\"question1\", \"question2\", \"question3\", \"question4\", \"question5\"]}}\n",
    "\"\"\".strip()"
   ]
  },
  {
   "cell_type": "code",
   "execution_count": null,
   "metadata": {},
   "outputs": [],
   "source": [
    "def generate_questions(video):\n",
    "    prompt = prompt_llm.format(**video.__dict__)\n",
    "\n",
    "    response = llm(prompt, client=ollama_client)\n",
    "\n",
    "    return response"
   ]
  },
  {
   "cell_type": "code",
   "execution_count": null,
   "metadata": {},
   "outputs": [],
   "source": [
    "results = {}\n",
    "failed_video_ids = {}"
   ]
  },
  {
   "cell_type": "code",
   "execution_count": null,
   "metadata": {},
   "outputs": [],
   "source": [
    "for video in tqdm(videos): \n",
    "    if video.video_id in results:\n",
    "        continue\n",
    "\n",
    "    try:\n",
    "        questions_raw = generate_questions(video)\n",
    "    except Exception as err:\n",
    "        print(f\"Failed {video.video_id}\", err)\n",
    "        continue\n",
    "\n",
    "\n",
    "    try:\n",
    "        questions = json.loads(questions_raw.replace(\"json\", \"\").replace(\"`\", \"\").strip())\n",
    "    except json.JSONDecodeError:\n",
    "        # print(f\"JSON fail for {video.video_id}\")\n",
    "        failed_video_ids[video.video_id] = questions_raw\n",
    "        continue        \n",
    "    except Exception as err:\n",
    "        # print(f\"Failed {video.video_id}\", err)\n",
    "        failed_video_ids[video.video_id] = questions_raw\n",
    "        continue\n",
    "    else:\n",
    "        \n",
    "        try:\n",
    "            results[video.video_id] = questions['questions']\n",
    "        except KeyError:\n",
    "            failed_video_ids[video.video_id] = questions_raw\n",
    "            continue\n",
    "        "
   ]
  }
 ],
 "metadata": {
  "language_info": {
   "name": "python"
  }
 },
 "nbformat": 4,
 "nbformat_minor": 2
}
