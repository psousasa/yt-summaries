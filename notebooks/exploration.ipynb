{
 "cells": [
  {
   "cell_type": "code",
   "execution_count": 1,
   "metadata": {},
   "outputs": [],
   "source": [
    "from dotenv import load_dotenv\n",
    "import os\n",
    "from ast import literal_eval\n",
    "import sys\n",
    "\n",
    "sys.path.append(\"../src/\")"
   ]
  },
  {
   "cell_type": "code",
   "execution_count": 2,
   "metadata": {},
   "outputs": [
    {
     "data": {
      "text/plain": [
       "True"
      ]
     },
     "execution_count": 2,
     "metadata": {},
     "output_type": "execute_result"
    }
   ],
   "source": [
    "load_dotenv()"
   ]
  },
  {
   "cell_type": "markdown",
   "metadata": {},
   "source": [
    "# YT Video Info"
   ]
  },
  {
   "cell_type": "code",
   "execution_count": 3,
   "metadata": {},
   "outputs": [],
   "source": [
    "api_key = os.getenv(\"YT_API_KEY\")\n",
    "channel_id = literal_eval(os.getenv(\"YT_CHANNELS\"))  # get it from YT API response for video request - response[\"items\"][0][\"snippet\"][\"channelId\"]\n",
    "video_id = \"ZSL_Q6Pe-Ao\"  # https://www.youtube.com/watch?v=ZSL_Q6Pe-Ao\n"
   ]
  },
  {
   "cell_type": "markdown",
   "metadata": {},
   "source": [
    "## List YT Channel Videos"
   ]
  },
  {
   "cell_type": "code",
   "execution_count": null,
   "metadata": {},
   "outputs": [],
   "source": [
    "\n",
    "from yt_info.yt_video_data import get_channel_videos\n"
   ]
  },
  {
   "cell_type": "code",
   "execution_count": null,
   "metadata": {},
   "outputs": [],
   "source": [
    "videos = get_channel_videos(channel_id[\"Joshua Weissman\"], api_key)"
   ]
  },
  {
   "cell_type": "markdown",
   "metadata": {},
   "source": [
    "## Get YT Video title"
   ]
  },
  {
   "cell_type": "code",
   "execution_count": null,
   "metadata": {},
   "outputs": [],
   "source": [
    "from googleapiclient.discovery import build\n",
    "\n",
    "def get_video_title(video_id, api_key):\n",
    "    youtube = build('youtube', 'v3', developerKey=api_key)\n",
    "    \n",
    "    request = youtube.videos().list(\n",
    "        part='snippet',\n",
    "        id=video_id\n",
    "    )\n",
    "    response = request.execute()\n",
    "    \n",
    "    if 'items' in response and len(response['items']) > 0:\n",
    "        return response['items'][0]['snippet']['title']\n",
    "    else:\n",
    "        return \"Title not found\"\n",
    "\n",
    "title = get_video_title(video_id, api_key)\n",
    "print(f\"Video Title: {title}\")"
   ]
  },
  {
   "cell_type": "markdown",
   "metadata": {},
   "source": [
    "## Get YT Video Transcript"
   ]
  },
  {
   "cell_type": "code",
   "execution_count": null,
   "metadata": {},
   "outputs": [],
   "source": [
    "from youtube_transcript_api import YouTubeTranscriptApi\n",
    "\n",
    "def get_transcript(video_id):\n",
    "    try:\n",
    "        transcript = YouTubeTranscriptApi.get_transcript(video_id)\n",
    "        return transcript\n",
    "    except Exception as e:\n",
    "        print(f\"An error occurred: {str(e)}\")\n",
    "        return None\n",
    "\n",
    "# Example usage\n",
    "transcript = get_transcript(video_id)\n",
    "\n",
    "if transcript:\n",
    "    for entry in transcript:\n",
    "        print(entry['text'])"
   ]
  },
  {
   "cell_type": "code",
   "execution_count": 2,
   "metadata": {},
   "outputs": [],
   "source": [
    "%load_ext autoreload\n",
    "%autoreload 2"
   ]
  },
  {
   "cell_type": "code",
   "execution_count": 1,
   "metadata": {},
   "outputs": [
    {
     "name": "stderr",
     "output_type": "stream",
     "text": [
      "/home/pedro-loka/.cache/pypoetry/virtualenvs/yt-summaries-019raoQi-py3.10/lib/python3.10/site-packages/sentence_transformers/cross_encoder/CrossEncoder.py:11: TqdmExperimentalWarning: Using `tqdm.autonotebook.tqdm` in notebook mode. Use `tqdm.tqdm` instead to force console mode (e.g. in jupyter console)\n",
      "  from tqdm.autonotebook import tqdm, trange\n",
      "/home/pedro-loka/.cache/pypoetry/virtualenvs/yt-summaries-019raoQi-py3.10/lib/python3.10/site-packages/transformers/tokenization_utils_base.py:1601: FutureWarning: `clean_up_tokenization_spaces` was not set. It will be set to `True` by default. This behavior will be depracted in transformers v4.45, and will be then set to `False` by default. For more details check this issue: https://github.com/huggingface/transformers/issues/31884\n",
      "  warnings.warn(\n"
     ]
    }
   ],
   "source": [
    "from yt_rag.agent import title_description_vector_knn"
   ]
  },
  {
   "cell_type": "code",
   "execution_count": 6,
   "metadata": {},
   "outputs": [],
   "source": [
    "a = title_description_vector_knn(\"show me videos on black garlic\")"
   ]
  },
  {
   "cell_type": "code",
   "execution_count": 7,
   "metadata": {},
   "outputs": [
    {
     "data": {
      "text/plain": [
       "[{'description': '',\n",
       "  'title': '4 Ways To Use Garlic',\n",
       "  'is_short': True,\n",
       "  'video_id': 'heRFk1cmGA0'},\n",
       " {'description': '',\n",
       "  'title': 'Reviewing INSANE Cooking Videos',\n",
       "  'is_short': True,\n",
       "  'video_id': 'XG8vavN9ka4'},\n",
       " {'description': \"Who doesn't need some homemade garlic bread in their life? It's fairly simple to make, yet oh so amazing. Obviously, garlic bread ...\",\n",
       "  'title': 'Perfect Homemade Garlic Bread (3 Ways)',\n",
       "  'is_short': True,\n",
       "  'video_id': 'FkV_fU5GoXM'},\n",
       " {'description': '',\n",
       "  'title': 'Easy Chili Garlic Noodles',\n",
       "  'is_short': True,\n",
       "  'video_id': 'K0WOIWPwouI'},\n",
       " {'description': 'By the end of this video my hope is you will be able to go home, get your first set of whetstones, and be able to start your journey in ...',\n",
       "  'title': 'Sharpen Your Kitchen Knife Like A Master Sharpener',\n",
       "  'is_short': True,\n",
       "  'video_id': 'nhRjIFwExqI'},\n",
       " {'description': \"The blooming onion should have just been a really good onion ring, let's be honest. Nonetheless, we are here to take the title of ...\",\n",
       "  'title': 'Making Outback Steakhouse Blooming Onion At Home | But Better',\n",
       "  'is_short': True,\n",
       "  'video_id': 'imrdrJ2iOhw'},\n",
       " {'description': 'Thanks to Ghirardelli for sponsoring this video. Be sure to visit and find them at your local grocery store! #aBiteBetter ...',\n",
       "  'title': 'Making The Perfect Crepe (3 Ways)',\n",
       "  'is_short': True,\n",
       "  'video_id': '8IrVOVAcpvw'},\n",
       " {'description': '',\n",
       "  'title': 'Food HACKS I Learned In Restaurants',\n",
       "  'is_short': True,\n",
       "  'video_id': 'YugawDL8G4M'},\n",
       " {'description': '',\n",
       "  'title': 'Food HACKS I Learned In Restaurants',\n",
       "  'is_short': True,\n",
       "  'video_id': 'YugawDL8G4M'},\n",
       " {'description': '',\n",
       "  'title': 'The BEST Sauce Anyone Can Make',\n",
       "  'is_short': True,\n",
       "  'video_id': 'gxwChEvuPNo'}]"
      ]
     },
     "execution_count": 7,
     "metadata": {},
     "output_type": "execute_result"
    }
   ],
   "source": [
    "a"
   ]
  },
  {
   "cell_type": "code",
   "execution_count": 9,
   "metadata": {},
   "outputs": [
    {
     "data": {
      "text/plain": [
       "'I would hope all of you have had the pleasure to try Naan before. You may not have had a traditional version of it, but either way, ...'"
      ]
     },
     "execution_count": 9,
     "metadata": {},
     "output_type": "execute_result"
    }
   ],
   "source": [
    "a[-1][\"description\"]"
   ]
  }
 ],
 "metadata": {
  "interpreter": {
   "hash": "42097c99d85c3de64a416612e20e99fe9f8b2589256f2e83a2a3abfd51f5773a"
  },
  "kernelspec": {
   "display_name": "Python 3.10.12 ('yt-summaries-019raoQi-py3.10')",
   "language": "python",
   "name": "python3"
  },
  "language_info": {
   "codemirror_mode": {
    "name": "ipython",
    "version": 3
   },
   "file_extension": ".py",
   "mimetype": "text/x-python",
   "name": "python",
   "nbconvert_exporter": "python",
   "pygments_lexer": "ipython3",
   "version": "3.10.12"
  },
  "orig_nbformat": 4
 },
 "nbformat": 4,
 "nbformat_minor": 2
}
